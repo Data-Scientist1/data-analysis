{
 "cells": [
  {
   "cell_type": "code",
   "execution_count": 1,
   "id": "81638f90",
   "metadata": {
    "_cell_guid": "b1076dfc-b9ad-4769-8c92-a6c4dae69d19",
    "_uuid": "8f2839f25d086af736a60e9eeb907d3b93b6e0e5",
    "execution": {
     "iopub.execute_input": "2021-11-30T17:36:27.129236Z",
     "iopub.status.busy": "2021-11-30T17:36:27.127419Z",
     "iopub.status.idle": "2021-11-30T17:36:28.069351Z",
     "shell.execute_reply": "2021-11-30T17:36:28.068742Z",
     "shell.execute_reply.started": "2021-11-30T17:28:01.323026Z"
    },
    "papermill": {
     "duration": 0.975927,
     "end_time": "2021-11-30T17:36:28.069555",
     "exception": false,
     "start_time": "2021-11-30T17:36:27.093628",
     "status": "completed"
    },
    "tags": []
   },
   "outputs": [],
   "source": [
    "import numpy as np # linear algebra\n",
    "import pandas as pd # data processing, CSV file I/O (e.g. pd.read_csv)\n",
    "import matplotlib.pyplot as plt\n",
    "import seaborn as sns\n",
    "\n",
    "sns.set()"
   ]
  },
  {
   "cell_type": "markdown",
   "id": "e70633e4",
   "metadata": {
    "papermill": {
     "duration": 0.018152,
     "end_time": "2021-11-30T17:36:28.107730",
     "exception": false,
     "start_time": "2021-11-30T17:36:28.089578",
     "status": "completed"
    },
    "tags": []
   },
   "source": [
    "### Read the data"
   ]
  },
  {
   "cell_type": "code",
   "execution_count": 4,
   "id": "7dbf3463",
   "metadata": {
    "execution": {
     "iopub.execute_input": "2021-11-30T17:36:28.147898Z",
     "iopub.status.busy": "2021-11-30T17:36:28.146929Z",
     "iopub.status.idle": "2021-11-30T17:36:28.221294Z",
     "shell.execute_reply": "2021-11-30T17:36:28.221771Z",
     "shell.execute_reply.started": "2021-11-30T17:28:01.349152Z"
    },
    "papermill": {
     "duration": 0.09604,
     "end_time": "2021-11-30T17:36:28.221954",
     "exception": false,
     "start_time": "2021-11-30T17:36:28.125914",
     "status": "completed"
    },
    "tags": []
   },
   "outputs": [
    {
     "data": {
      "text/html": [
       "<div>\n",
       "<style scoped>\n",
       "    .dataframe tbody tr th:only-of-type {\n",
       "        vertical-align: middle;\n",
       "    }\n",
       "\n",
       "    .dataframe tbody tr th {\n",
       "        vertical-align: top;\n",
       "    }\n",
       "\n",
       "    .dataframe thead th {\n",
       "        text-align: right;\n",
       "    }\n",
       "</style>\n",
       "<table border=\"1\" class=\"dataframe\">\n",
       "  <thead>\n",
       "    <tr style=\"text-align: right;\">\n",
       "      <th></th>\n",
       "      <th>Price</th>\n",
       "      <th>Boat Type</th>\n",
       "      <th>Manufacturer</th>\n",
       "      <th>Type</th>\n",
       "      <th>Year Built</th>\n",
       "      <th>Length</th>\n",
       "      <th>Width</th>\n",
       "      <th>Material</th>\n",
       "      <th>Location</th>\n",
       "      <th>Number of views last 7 days</th>\n",
       "    </tr>\n",
       "  </thead>\n",
       "  <tbody>\n",
       "    <tr>\n",
       "      <th>0</th>\n",
       "      <td>CHF 3337</td>\n",
       "      <td>Motor Yacht</td>\n",
       "      <td>Rigiflex power boats</td>\n",
       "      <td>new boat from stock</td>\n",
       "      <td>2017</td>\n",
       "      <td>4.00</td>\n",
       "      <td>1.90</td>\n",
       "      <td>NaN</td>\n",
       "      <td>Switzerland Â» Lake Geneva Â» VÃ©senaz</td>\n",
       "      <td>226</td>\n",
       "    </tr>\n",
       "    <tr>\n",
       "      <th>1</th>\n",
       "      <td>EUR 3490</td>\n",
       "      <td>Center console boat</td>\n",
       "      <td>Terhi power boats</td>\n",
       "      <td>new boat from stock</td>\n",
       "      <td>2020</td>\n",
       "      <td>4.00</td>\n",
       "      <td>1.50</td>\n",
       "      <td>Thermoplastic</td>\n",
       "      <td>Germany Â» BÃ¶nningstedt</td>\n",
       "      <td>75</td>\n",
       "    </tr>\n",
       "    <tr>\n",
       "      <th>2</th>\n",
       "      <td>CHF 3770</td>\n",
       "      <td>Sport Boat</td>\n",
       "      <td>Marine power boats</td>\n",
       "      <td>new boat from stock</td>\n",
       "      <td>0</td>\n",
       "      <td>3.69</td>\n",
       "      <td>1.42</td>\n",
       "      <td>Aluminium</td>\n",
       "      <td>Switzerland Â» Lake of Zurich Â» StÃ¤fa ZH</td>\n",
       "      <td>124</td>\n",
       "    </tr>\n",
       "    <tr>\n",
       "      <th>3</th>\n",
       "      <td>DKK 25900</td>\n",
       "      <td>Sport Boat</td>\n",
       "      <td>Pioner power boats</td>\n",
       "      <td>new boat from stock</td>\n",
       "      <td>2020</td>\n",
       "      <td>3.00</td>\n",
       "      <td>1.00</td>\n",
       "      <td>NaN</td>\n",
       "      <td>Denmark Â» Svendborg</td>\n",
       "      <td>64</td>\n",
       "    </tr>\n",
       "    <tr>\n",
       "      <th>4</th>\n",
       "      <td>EUR 3399</td>\n",
       "      <td>Fishing Boat</td>\n",
       "      <td>Linder power boats</td>\n",
       "      <td>new boat from stock</td>\n",
       "      <td>2019</td>\n",
       "      <td>3.55</td>\n",
       "      <td>1.46</td>\n",
       "      <td>Aluminium</td>\n",
       "      <td>Germany Â» Bayern Â» MÃ¼nchen</td>\n",
       "      <td>58</td>\n",
       "    </tr>\n",
       "  </tbody>\n",
       "</table>\n",
       "</div>"
      ],
      "text/plain": [
       "       Price            Boat Type          Manufacturer                 Type  \\\n",
       "0   CHF 3337          Motor Yacht  Rigiflex power boats  new boat from stock   \n",
       "1   EUR 3490  Center console boat     Terhi power boats  new boat from stock   \n",
       "2   CHF 3770           Sport Boat    Marine power boats  new boat from stock   \n",
       "3  DKK 25900           Sport Boat    Pioner power boats  new boat from stock   \n",
       "4   EUR 3399         Fishing Boat    Linder power boats  new boat from stock   \n",
       "\n",
       "   Year Built  Length  Width       Material  \\\n",
       "0        2017    4.00   1.90            NaN   \n",
       "1        2020    4.00   1.50  Thermoplastic   \n",
       "2           0    3.69   1.42      Aluminium   \n",
       "3        2020    3.00   1.00            NaN   \n",
       "4        2019    3.55   1.46      Aluminium   \n",
       "\n",
       "                                     Location  Number of views last 7 days  \n",
       "0      Switzerland Â» Lake Geneva Â» VÃ©senaz                          226  \n",
       "1                    Germany Â» BÃ¶nningstedt                           75  \n",
       "2  Switzerland Â» Lake of Zurich Â» StÃ¤fa ZH                          124  \n",
       "3                        Denmark Â» Svendborg                           64  \n",
       "4               Germany Â» Bayern Â» MÃ¼nchen                           58  "
      ]
     },
     "execution_count": 4,
     "metadata": {},
     "output_type": "execute_result"
    }
   ],
   "source": [
    "data = pd.read_csv('boat_data.csv')\n",
    "data.head()"
   ]
  },
  {
   "cell_type": "markdown",
   "id": "c3cc80e3",
   "metadata": {
    "papermill": {
     "duration": 0.018071,
     "end_time": "2021-11-30T17:36:28.258624",
     "exception": false,
     "start_time": "2021-11-30T17:36:28.240553",
     "status": "completed"
    },
    "tags": []
   },
   "source": [
    "### convert price into USD "
   ]
  },
  {
   "cell_type": "code",
   "execution_count": 3,
   "id": "351e8d1f",
   "metadata": {
    "execution": {
     "iopub.execute_input": "2021-11-30T17:36:28.299050Z",
     "iopub.status.busy": "2021-11-30T17:36:28.298342Z",
     "iopub.status.idle": "2021-11-30T17:36:28.476276Z",
     "shell.execute_reply": "2021-11-30T17:36:28.476801Z",
     "shell.execute_reply.started": "2021-11-30T17:28:01.411788Z"
    },
    "papermill": {
     "duration": 0.19987,
     "end_time": "2021-11-30T17:36:28.477015",
     "exception": false,
     "start_time": "2021-11-30T17:36:28.277145",
     "status": "completed"
    },
    "tags": []
   },
   "outputs": [],
   "source": [
    "def convert_into_usd(x):\n",
    "    exchange_rate_based_usd = {\"USD\":1,\"Â£\":0.751,\"AED\":3.67,\"AFN\":94.22,\"ALL\":107.71,\"AMD\":481.64,\"ANG\":1.79,\"AOA\":584.25,\"ARS\":100.66,\"AUD\":1.4,\"AWG\":1.79,\"AZN\":1.7,\"BAM\":1.73,\"BBD\":2,\"BDT\":85.73,\"BGN\":1.73,\"BHD\":0.376,\"BIF\":1988.2,\"BMD\":1,\"BND\":1.37,\"BOB\":6.88,\"BRL\":5.62,\"BSD\":1,\"BTN\":75.26,\"BWP\":11.78,\"BYN\":2.54,\"BZD\":2,\"CAD\":1.27,\"CDF\":1998.82,\"CHF\":0.924,\"CLP\":831.29,\"CNY\":6.39,\"COP\":3965.28,\"CRC\":635.55,\"CUC\":1,\"CUP\":25,\"CVE\":97.74,\"CZK\":22.76,\"DJF\":177.72,\"DKK\":6.61,\"DOP\":56.5,\"DZD\":138.93,\"EGP\":15.71,\"ERN\":15,\"ETB\":48.12,\"EUR\":0.886,\"FJD\":2.12,\"FKP\":0.751,\"FOK\":6.61,\"GBP\":0.751,\"GEL\":3.1,\"GGP\":0.751,\"GHS\":6.12,\"GIP\":0.751,\"GMD\":52.62,\"GNF\":9536.72,\"GTQ\":7.73,\"GYD\":209.01,\"HKD\":7.8,\"HNL\":24.09,\"HRK\":6.68,\"HTG\":98.83,\"HUF\":326.86,\"IDR\":14280.09,\"ILS\":3.18,\"IMP\":0.751,\"INR\":75.27,\"IQD\":1457.69,\"IRR\":41998.73,\"ISK\":130.18,\"JMD\":155.84,\"JOD\":0.709,\"JPY\":113.61,\"KES\":112.37,\"KGS\":84.75,\"KHR\":4061.93,\"KID\":1.4,\"KMF\":436.09,\"KRW\":1191.68,\"KWD\":0.3,\"KYD\":0.833,\"KZT\":434.6,\"LAK\":10794.8,\"LBP\":1507.5,\"LKR\":201.76,\"LRD\":142.62,\"LSL\":16.15,\"LYD\":4.61,\"MAD\":9.24,\"MDL\":17.74,\"MGA\":3981.83,\"MKD\":54.73,\"MMK\":1780.82,\"MNT\":2846.68,\"MOP\":8.03,\"MRU\":36.21,\"MUR\":43.43,\"MVR\":15.4,\"MWK\":815.14,\"MXN\":21.77,\"MYR\":4.23,\"MZN\":64,\"NAD\":16.15,\"NGN\":422.32,\"NIO\":35.2,\"NOK\":9.05,\"NPR\":120.42,\"NZD\":1.47,\"OMR\":0.384,\"PAB\":1,\"PEN\":4.03,\"PGK\":3.53,\"PHP\":50.39,\"PKR\":175.58,\"PLN\":4.16,\"PYG\":6856.91,\"QAR\":3.64,\"RON\":4.38,\"RSD\":104.48,\"RUB\":74.91,\"RWF\":1034.48,\"SAR\":3.75,\"SBD\":8,\"SCR\":13.66,\"SDG\":438.69,\"SEK\":9.1,\"SGD\":1.37,\"SHP\":0.751,\"SLL\":10967.22,\"SOS\":577.94,\"SRD\":21.53,\"SSP\":311.53,\"STN\":21.72,\"SYP\":2503.75,\"SZL\":16.15,\"THB\":33.73,\"TJS\":11.26,\"TMT\":3.5,\"TND\":2.89,\"TOP\":2.27,\"TRY\":12.45,\"TTD\":6.76,\"TVD\":1.4,\"TWD\":27.79,\"TZS\":2299.73,\"UAH\":27.14,\"UGX\":3562.1,\"UYU\":44.01,\"UZS\":10766.81,\"VES\":4.59,\"VND\":22663.33,\"VUV\":112.7,\"WST\":2.59,\"XAF\":581.45,\"XCD\":2.7,\"XDR\":0.714,\"XOF\":581.45,\"XPF\":105.78,\"YER\":250.13,\"ZAR\":16.15,\"ZMW\":17.72}\n",
    "    l = x.split(\" \")\n",
    "    currency, amount = l[0], l[1]\n",
    "    return np.round(float(amount) / exchange_rate_based_usd[currency], 2)\n",
    "    \n",
    "data['price_in_USD'] = data['Price'].apply(lambda x: convert_into_usd(x))"
   ]
  },
  {
   "cell_type": "markdown",
   "id": "929f53b9",
   "metadata": {
    "papermill": {
     "duration": 0.018713,
     "end_time": "2021-11-30T17:36:28.518380",
     "exception": false,
     "start_time": "2021-11-30T17:36:28.499667",
     "status": "completed"
    },
    "tags": []
   },
   "source": [
    "### find null values"
   ]
  },
  {
   "cell_type": "code",
   "execution_count": 4,
   "id": "e42acec4",
   "metadata": {
    "execution": {
     "iopub.execute_input": "2021-11-30T17:36:28.559258Z",
     "iopub.status.busy": "2021-11-30T17:36:28.558649Z",
     "iopub.status.idle": "2021-11-30T17:36:28.568367Z",
     "shell.execute_reply": "2021-11-30T17:36:28.569215Z",
     "shell.execute_reply.started": "2021-11-30T17:28:01.642948Z"
    },
    "papermill": {
     "duration": 0.032678,
     "end_time": "2021-11-30T17:36:28.569472",
     "exception": false,
     "start_time": "2021-11-30T17:36:28.536794",
     "status": "completed"
    },
    "tags": []
   },
   "outputs": [
    {
     "data": {
      "text/plain": [
       "Price                             0\n",
       "Boat Type                         0\n",
       "Manufacturer                   1338\n",
       "Type                              6\n",
       "Year Built                        0\n",
       "Length                            9\n",
       "Width                            56\n",
       "Material                       1749\n",
       "Location                         36\n",
       "Number of views last 7 days       0\n",
       "price_in_USD                      0\n",
       "dtype: int64"
      ]
     },
     "execution_count": 4,
     "metadata": {},
     "output_type": "execute_result"
    }
   ],
   "source": [
    "data.isna().sum()"
   ]
  },
  {
   "cell_type": "markdown",
   "id": "450d1649",
   "metadata": {
    "papermill": {
     "duration": 0.018505,
     "end_time": "2021-11-30T17:36:28.606833",
     "exception": false,
     "start_time": "2021-11-30T17:36:28.588328",
     "status": "completed"
    },
    "tags": []
   },
   "source": [
    "### plot lenght distribution"
   ]
  },
  {
   "cell_type": "code",
   "execution_count": 5,
   "id": "daead531",
   "metadata": {
    "execution": {
     "iopub.execute_input": "2021-11-30T17:36:28.647782Z",
     "iopub.status.busy": "2021-11-30T17:36:28.647076Z",
     "iopub.status.idle": "2021-11-30T17:36:29.526332Z",
     "shell.execute_reply": "2021-11-30T17:36:29.526907Z",
     "shell.execute_reply.started": "2021-11-30T17:28:01.662311Z"
    },
    "papermill": {
     "duration": 0.901316,
     "end_time": "2021-11-30T17:36:29.527097",
     "exception": false,
     "start_time": "2021-11-30T17:36:28.625781",
     "status": "completed"
    },
    "tags": []
   },
   "outputs": [
    {
     "data": {
      "text/plain": [
       "<seaborn.axisgrid.FacetGrid at 0x7f999c5bbb50>"
      ]
     },
     "execution_count": 5,
     "metadata": {},
     "output_type": "execute_result"
    },
    {
     "data": {
      "image/png": "[encoded data removed]",
      "text/plain": [
       "<Figure size 360x360 with 1 Axes>"
      ]
     },
     "metadata": {},
     "output_type": "display_data"
    }
   ],
   "source": [
    "sns.displot(data['Length'])"
   ]
  },
  {
   "cell_type": "markdown",
   "id": "3dbc6214",
   "metadata": {
    "papermill": {
     "duration": 0.030935,
     "end_time": "2021-11-30T17:36:29.581578",
     "exception": false,
     "start_time": "2021-11-30T17:36:29.550643",
     "status": "completed"
    },
    "tags": []
   },
   "source": [
    "### plot width distribution"
   ]
  },
  {
   "cell_type": "code",
   "execution_count": 6,
   "id": "90042ad5",
   "metadata": {
    "execution": {
     "iopub.execute_input": "2021-11-30T17:36:29.633462Z",
     "iopub.status.busy": "2021-11-30T17:36:29.632822Z",
     "iopub.status.idle": "2021-11-30T17:36:30.329484Z",
     "shell.execute_reply": "2021-11-30T17:36:30.330124Z",
     "shell.execute_reply.started": "2021-11-30T17:28:02.553613Z"
    },
    "papermill": {
     "duration": 0.724177,
     "end_time": "2021-11-30T17:36:30.330318",
     "exception": false,
     "start_time": "2021-11-30T17:36:29.606141",
     "status": "completed"
    },
    "tags": []
   },
   "outputs": [
    {
     "data": {
      "text/plain": [
       "<seaborn.axisgrid.FacetGrid at 0x7f999c33c110>"
      ]
     },
     "execution_count": 6,
     "metadata": {},
     "output_type": "execute_result"
    },
    {
     "data": {
      "image/png": "[encoded data removed]",
      "text/plain": [
       "<Figure size 360x360 with 1 Axes>"
      ]
     },
     "metadata": {},
     "output_type": "display_data"
    }
   ],
   "source": [
    "sns.displot(data['Width'])"
   ]
  },
  {
   "cell_type": "markdown",
   "id": "6b7d72b7",
   "metadata": {
    "papermill": {
     "duration": 0.020931,
     "end_time": "2021-11-30T17:36:30.371900",
     "exception": false,
     "start_time": "2021-11-30T17:36:30.350969",
     "status": "completed"
    },
    "tags": []
   },
   "source": [
    "### filling null width and length with there mean"
   ]
  },
  {
   "cell_type": "code",
   "execution_count": 7,
   "id": "ad034418",
   "metadata": {
    "execution": {
     "iopub.execute_input": "2021-11-30T17:36:30.420975Z",
     "iopub.status.busy": "2021-11-30T17:36:30.419939Z",
     "iopub.status.idle": "2021-11-30T17:36:30.422071Z",
     "shell.execute_reply": "2021-11-30T17:36:30.422553Z",
     "shell.execute_reply.started": "2021-11-30T17:28:03.37921Z"
    },
    "papermill": {
     "duration": 0.02983,
     "end_time": "2021-11-30T17:36:30.422720",
     "exception": false,
     "start_time": "2021-11-30T17:36:30.392890",
     "status": "completed"
    },
    "tags": []
   },
   "outputs": [],
   "source": [
    "length_mean = np.round(data['Length'].mean(), 2)\n",
    "width_mean  = np.round(data['Width'].mean(), 2)\n",
    "\n",
    "data['Length'].fillna(length_mean, inplace=True)\n",
    "data['Width'].fillna(width_mean, inplace=True)"
   ]
  },
  {
   "cell_type": "markdown",
   "id": "0d1ca3af",
   "metadata": {
    "papermill": {
     "duration": 0.020273,
     "end_time": "2021-11-30T17:36:30.463223",
     "exception": false,
     "start_time": "2021-11-30T17:36:30.442950",
     "status": "completed"
    },
    "tags": []
   },
   "source": [
    "### replace Year 0 value with the most occuring year"
   ]
  },
  {
   "cell_type": "code",
   "execution_count": 8,
   "id": "9aec4ecd",
   "metadata": {
    "execution": {
     "iopub.execute_input": "2021-11-30T17:36:30.508141Z",
     "iopub.status.busy": "2021-11-30T17:36:30.507533Z",
     "iopub.status.idle": "2021-11-30T17:36:30.511526Z",
     "shell.execute_reply": "2021-11-30T17:36:30.511979Z",
     "shell.execute_reply.started": "2021-11-30T17:28:03.389186Z"
    },
    "papermill": {
     "duration": 0.028302,
     "end_time": "2021-11-30T17:36:30.512152",
     "exception": false,
     "start_time": "2021-11-30T17:36:30.483850",
     "status": "completed"
    },
    "tags": []
   },
   "outputs": [],
   "source": [
    "data['Year Built'].replace(0, 2020, inplace=True)"
   ]
  },
  {
   "cell_type": "markdown",
   "id": "b41a413d",
   "metadata": {
    "papermill": {
     "duration": 0.020484,
     "end_time": "2021-11-30T17:36:30.553158",
     "exception": false,
     "start_time": "2021-11-30T17:36:30.532674",
     "status": "completed"
    },
    "tags": []
   },
   "source": [
    "### fill other null values with 'unknown'"
   ]
  },
  {
   "cell_type": "code",
   "execution_count": 9,
   "id": "b60041b8",
   "metadata": {
    "execution": {
     "iopub.execute_input": "2021-11-30T17:36:30.597782Z",
     "iopub.status.busy": "2021-11-30T17:36:30.597154Z",
     "iopub.status.idle": "2021-11-30T17:36:30.605703Z",
     "shell.execute_reply": "2021-11-30T17:36:30.606259Z",
     "shell.execute_reply.started": "2021-11-30T17:28:03.401827Z"
    },
    "papermill": {
     "duration": 0.032906,
     "end_time": "2021-11-30T17:36:30.606446",
     "exception": false,
     "start_time": "2021-11-30T17:36:30.573540",
     "status": "completed"
    },
    "tags": []
   },
   "outputs": [],
   "source": [
    "data.fillna('Unknown', inplace=True)"
   ]
  },
  {
   "cell_type": "markdown",
   "id": "dea5b0f2",
   "metadata": {
    "papermill": {
     "duration": 0.020251,
     "end_time": "2021-11-30T17:36:30.648030",
     "exception": false,
     "start_time": "2021-11-30T17:36:30.627779",
     "status": "completed"
    },
    "tags": []
   },
   "source": [
    "### checking for null values"
   ]
  },
  {
   "cell_type": "code",
   "execution_count": 10,
   "id": "b600f8c2",
   "metadata": {
    "execution": {
     "iopub.execute_input": "2021-11-30T17:36:30.692210Z",
     "iopub.status.busy": "2021-11-30T17:36:30.691586Z",
     "iopub.status.idle": "2021-11-30T17:36:30.703626Z",
     "shell.execute_reply": "2021-11-30T17:36:30.703006Z",
     "shell.execute_reply.started": "2021-11-30T17:28:03.422057Z"
    },
    "papermill": {
     "duration": 0.035179,
     "end_time": "2021-11-30T17:36:30.703765",
     "exception": false,
     "start_time": "2021-11-30T17:36:30.668586",
     "status": "completed"
    },
    "tags": []
   },
   "outputs": [
    {
     "data": {
      "text/plain": [
       "Price                          0\n",
       "Boat Type                      0\n",
       "Manufacturer                   0\n",
       "Type                           0\n",
       "Year Built                     0\n",
       "Length                         0\n",
       "Width                          0\n",
       "Material                       0\n",
       "Location                       0\n",
       "Number of views last 7 days    0\n",
       "price_in_USD                   0\n",
       "dtype: int64"
      ]
     },
     "execution_count": 10,
     "metadata": {},
     "output_type": "execute_result"
    }
   ],
   "source": [
    "data.isna().sum()"
   ]
  },
  {
   "cell_type": "code",
   "execution_count": 11,
   "id": "b5e340ce",
   "metadata": {
    "execution": {
     "iopub.execute_input": "2021-11-30T17:36:30.749211Z",
     "iopub.status.busy": "2021-11-30T17:36:30.748556Z",
     "iopub.status.idle": "2021-11-30T17:36:30.762272Z",
     "shell.execute_reply": "2021-11-30T17:36:30.762789Z",
     "shell.execute_reply.started": "2021-11-30T17:28:03.44315Z"
    },
    "papermill": {
     "duration": 0.038484,
     "end_time": "2021-11-30T17:36:30.762977",
     "exception": false,
     "start_time": "2021-11-30T17:36:30.724493",
     "status": "completed"
    },
    "tags": []
   },
   "outputs": [
    {
     "data": {
      "text/html": [
       "<div>\n",
       "<style scoped>\n",
       "    .dataframe tbody tr th:only-of-type {\n",
       "        vertical-align: middle;\n",
       "    }\n",
       "\n",
       "    .dataframe tbody tr th {\n",
       "        vertical-align: top;\n",
       "    }\n",
       "\n",
       "    .dataframe thead th {\n",
       "        text-align: right;\n",
       "    }\n",
       "</style>\n",
       "<table border=\"1\" class=\"dataframe\">\n",
       "  <thead>\n",
       "    <tr style=\"text-align: right;\">\n",
       "      <th></th>\n",
       "      <th>Price</th>\n",
       "      <th>Boat Type</th>\n",
       "      <th>Manufacturer</th>\n",
       "      <th>Type</th>\n",
       "      <th>Year Built</th>\n",
       "      <th>Length</th>\n",
       "      <th>Width</th>\n",
       "      <th>Material</th>\n",
       "      <th>Location</th>\n",
       "      <th>Number of views last 7 days</th>\n",
       "      <th>price_in_USD</th>\n",
       "    </tr>\n",
       "  </thead>\n",
       "  <tbody>\n",
       "    <tr>\n",
       "      <th>0</th>\n",
       "      <td>CHF 3337</td>\n",
       "      <td>Motor Yacht</td>\n",
       "      <td>Rigiflex power boats</td>\n",
       "      <td>new boat from stock</td>\n",
       "      <td>2017</td>\n",
       "      <td>4.0</td>\n",
       "      <td>1.9</td>\n",
       "      <td>Unknown</td>\n",
       "      <td>Switzerland Â» Lake Geneva Â» VÃ©senaz</td>\n",
       "      <td>226</td>\n",
       "      <td>3611.47</td>\n",
       "    </tr>\n",
       "  </tbody>\n",
       "</table>\n",
       "</div>"
      ],
      "text/plain": [
       "      Price    Boat Type          Manufacturer                 Type  \\\n",
       "0  CHF 3337  Motor Yacht  Rigiflex power boats  new boat from stock   \n",
       "\n",
       "   Year Built  Length  Width Material                                Location  \\\n",
       "0        2017     4.0    1.9  Unknown  Switzerland Â» Lake Geneva Â» VÃ©senaz   \n",
       "\n",
       "   Number of views last 7 days  price_in_USD  \n",
       "0                          226       3611.47  "
      ]
     },
     "execution_count": 11,
     "metadata": {},
     "output_type": "execute_result"
    }
   ],
   "source": [
    "data.head(1)"
   ]
  },
  {
   "cell_type": "markdown",
   "id": "8ee9f6ee",
   "metadata": {
    "papermill": {
     "duration": 0.022944,
     "end_time": "2021-11-30T17:36:30.806973",
     "exception": false,
     "start_time": "2021-11-30T17:36:30.784029",
     "status": "completed"
    },
    "tags": []
   },
   "source": [
    "### plot the relation between price and number of views last 7 days"
   ]
  },
  {
   "cell_type": "code",
   "execution_count": 12,
   "id": "4c21bea6",
   "metadata": {
    "execution": {
     "iopub.execute_input": "2021-11-30T17:36:30.860546Z",
     "iopub.status.busy": "2021-11-30T17:36:30.859873Z",
     "iopub.status.idle": "2021-11-30T17:36:31.349293Z",
     "shell.execute_reply": "2021-11-30T17:36:31.348703Z",
     "shell.execute_reply.started": "2021-11-30T17:28:03.459942Z"
    },
    "papermill": {
     "duration": 0.5196,
     "end_time": "2021-11-30T17:36:31.349423",
     "exception": false,
     "start_time": "2021-11-30T17:36:30.829823",
     "status": "completed"
    },
    "tags": []
   },
   "outputs": [
    {
     "data": {
      "text/plain": [
       "<seaborn.axisgrid.FacetGrid at 0x7f999c50eb10>"
      ]
     },
     "execution_count": 12,
     "metadata": {},
     "output_type": "execute_result"
    },
    {
     "data": {
      "image/png": "[encoded data removed]",
      "text/plain": [
       "<Figure size 360x360 with 1 Axes>"
      ]
     },
     "metadata": {},
     "output_type": "display_data"
    }
   ],
   "source": [
    "sns.relplot(data=data, x='price_in_USD', y='Number of views last 7 days')"
   ]
  },
  {
   "cell_type": "markdown",
   "id": "e4db3408",
   "metadata": {
    "papermill": {
     "duration": 0.022253,
     "end_time": "2021-11-30T17:36:31.394298",
     "exception": false,
     "start_time": "2021-11-30T17:36:31.372045",
     "status": "completed"
    },
    "tags": []
   },
   "source": [
    "### get the most viewed boats to find its characteristics "
   ]
  },
  {
   "cell_type": "code",
   "execution_count": 13,
   "id": "8446d1df",
   "metadata": {
    "execution": {
     "iopub.execute_input": "2021-11-30T17:36:31.444822Z",
     "iopub.status.busy": "2021-11-30T17:36:31.444071Z",
     "iopub.status.idle": "2021-11-30T17:36:31.448737Z",
     "shell.execute_reply": "2021-11-30T17:36:31.448212Z",
     "shell.execute_reply.started": "2021-11-30T17:28:04.013007Z"
    },
    "papermill": {
     "duration": 0.032331,
     "end_time": "2021-11-30T17:36:31.448893",
     "exception": false,
     "start_time": "2021-11-30T17:36:31.416562",
     "status": "completed"
    },
    "tags": []
   },
   "outputs": [],
   "source": [
    "most_viewed_boats = data.loc[ data['Number of views last 7 days'] > 499 ]"
   ]
  },
  {
   "cell_type": "code",
   "execution_count": 14,
   "id": "9933cef3",
   "metadata": {
    "execution": {
     "iopub.execute_input": "2021-11-30T17:36:31.521220Z",
     "iopub.status.busy": "2021-11-30T17:36:31.518817Z",
     "iopub.status.idle": "2021-11-30T17:36:32.926097Z",
     "shell.execute_reply": "2021-11-30T17:36:32.925532Z",
     "shell.execute_reply.started": "2021-11-30T17:28:04.022665Z"
    },
    "papermill": {
     "duration": 1.455098,
     "end_time": "2021-11-30T17:36:32.926243",
     "exception": false,
     "start_time": "2021-11-30T17:36:31.471145",
     "status": "completed"
    },
    "tags": []
   },
   "outputs": [
    {
     "data": {
      "text/plain": [
       "<seaborn.axisgrid.PairGrid at 0x7f999c058490>"
      ]
     },
     "execution_count": 14,
     "metadata": {},
     "output_type": "execute_result"
    },
    {
     "data": {
      "image/png": "[encoded data removed]",
      "text/plain": [
       "<Figure size 900x180 with 6 Axes>"
      ]
     },
     "metadata": {},
     "output_type": "display_data"
    }
   ],
   "source": [
    "sns.pairplot(most_viewed_boats, y_vars=['Number of views last 7 days'])"
   ]
  },
  {
   "cell_type": "code",
   "execution_count": 15,
   "id": "e36b8e11",
   "metadata": {
    "execution": {
     "iopub.execute_input": "2021-11-30T17:36:32.984902Z",
     "iopub.status.busy": "2021-11-30T17:36:32.984207Z",
     "iopub.status.idle": "2021-11-30T17:36:32.988637Z",
     "shell.execute_reply": "2021-11-30T17:36:32.988073Z",
     "shell.execute_reply.started": "2021-11-30T17:28:05.670521Z"
    },
    "papermill": {
     "duration": 0.037935,
     "end_time": "2021-11-30T17:36:32.988809",
     "exception": false,
     "start_time": "2021-11-30T17:36:32.950874",
     "status": "completed"
    },
    "tags": []
   },
   "outputs": [
    {
     "data": {
      "text/plain": [
       "382618.51"
      ]
     },
     "execution_count": 15,
     "metadata": {},
     "output_type": "execute_result"
    }
   ],
   "source": [
    "c = most_viewed_boats['price_in_USD'].quantile(.95)\n",
    "(most_viewed_boats[\"price_in_USD\"] > c).sum()\n",
    "c"
   ]
  },
  {
   "cell_type": "code",
   "execution_count": 16,
   "id": "af635e80",
   "metadata": {
    "execution": {
     "iopub.execute_input": "2021-11-30T17:36:33.049834Z",
     "iopub.status.busy": "2021-11-30T17:36:33.049087Z",
     "iopub.status.idle": "2021-11-30T17:36:33.053118Z",
     "shell.execute_reply": "2021-11-30T17:36:33.053963Z",
     "shell.execute_reply.started": "2021-11-30T17:28:05.680994Z"
    },
    "papermill": {
     "duration": 0.040541,
     "end_time": "2021-11-30T17:36:33.054243",
     "exception": false,
     "start_time": "2021-11-30T17:36:33.013702",
     "status": "completed"
    },
    "tags": []
   },
   "outputs": [
    {
     "name": "stderr",
     "output_type": "stream",
     "text": [
      "/opt/conda/lib/python3.7/site-packages/ipykernel_launcher.py:2: FutureWarning: Dropping of nuisance columns in DataFrame reductions (with 'numeric_only=None') is deprecated; in a future version this will raise TypeError.  Select only valid columns before calling the reduction.\n",
      "  \n"
     ]
    },
    {
     "data": {
      "text/plain": [
       "Year Built                      1997.049430\n",
       "Length                             8.109125\n",
       "Width                              2.765894\n",
       "Number of views last 7 days      784.144487\n",
       "price_in_USD                   65238.320608\n",
       "dtype: float64"
      ]
     },
     "execution_count": 16,
     "metadata": {},
     "output_type": "execute_result"
    }
   ],
   "source": [
    "outlier = most_viewed_boats['price_in_USD'].quantile(.95)\n",
    "most_viewed_boats[most_viewed_boats[\"price_in_USD\"] < outlier].mean()"
   ]
  },
  {
   "cell_type": "code",
   "execution_count": 17,
   "id": "62fa81af",
   "metadata": {
    "execution": {
     "iopub.execute_input": "2021-11-30T17:36:33.116464Z",
     "iopub.status.busy": "2021-11-30T17:36:33.115511Z",
     "iopub.status.idle": "2021-11-30T17:36:33.119933Z",
     "shell.execute_reply": "2021-11-30T17:36:33.120406Z",
     "shell.execute_reply.started": "2021-11-30T17:28:05.702363Z"
    },
    "papermill": {
     "duration": 0.040827,
     "end_time": "2021-11-30T17:36:33.120619",
     "exception": false,
     "start_time": "2021-11-30T17:36:33.079792",
     "status": "completed"
    },
    "tags": []
   },
   "outputs": [
    {
     "name": "stderr",
     "output_type": "stream",
     "text": [
      "/opt/conda/lib/python3.7/site-packages/ipykernel_launcher.py:2: FutureWarning: Dropping of nuisance columns in DataFrame reductions (with 'numeric_only=None') is deprecated; in a future version this will raise TypeError.  Select only valid columns before calling the reduction.\n",
      "  \n"
     ]
    },
    {
     "data": {
      "text/plain": [
       "Year Built                        17.236606\n",
       "Length                             2.773797\n",
       "Width                              0.862164\n",
       "Number of views last 7 days      359.156606\n",
       "price_in_USD                   75088.118473\n",
       "dtype: float64"
      ]
     },
     "execution_count": 17,
     "metadata": {},
     "output_type": "execute_result"
    }
   ],
   "source": [
    "outlier = most_viewed_boats['price_in_USD'].quantile(.95)\n",
    "most_viewed_boats[most_viewed_boats[\"price_in_USD\"] < outlier].std()"
   ]
  },
  {
   "cell_type": "code",
   "execution_count": 18,
   "id": "f4f97dfe",
   "metadata": {
    "execution": {
     "iopub.execute_input": "2021-11-30T17:36:33.180481Z",
     "iopub.status.busy": "2021-11-30T17:36:33.179519Z",
     "iopub.status.idle": "2021-11-30T17:36:33.183395Z",
     "shell.execute_reply": "2021-11-30T17:36:33.182908Z",
     "shell.execute_reply.started": "2021-11-30T17:28:05.718108Z"
    },
    "papermill": {
     "duration": 0.03726,
     "end_time": "2021-11-30T17:36:33.183573",
     "exception": false,
     "start_time": "2021-11-30T17:36:33.146313",
     "status": "completed"
    },
    "tags": []
   },
   "outputs": [
    {
     "data": {
      "text/plain": [
       "Used boat,Unleaded              168\n",
       "Used boat,Diesel                 72\n",
       "Used boat                        14\n",
       "new boat from stock,Unleaded      7\n",
       "new boat from stock               3\n",
       "new boat on order                 3\n",
       "Display Model,Unleaded            3\n",
       "new boat from stock,Diesel        3\n",
       "new boat on order,Diesel          2\n",
       "new boat on order,Unleaded        1\n",
       "Display Model,Diesel              1\n",
       "Display Model                     1\n",
       "Name: Type, dtype: int64"
      ]
     },
     "execution_count": 18,
     "metadata": {},
     "output_type": "execute_result"
    }
   ],
   "source": [
    "most_viewed_boats['Type'].value_counts()"
   ]
  },
  {
   "cell_type": "code",
   "execution_count": 19,
   "id": "434f8e06",
   "metadata": {
    "execution": {
     "iopub.execute_input": "2021-11-30T17:36:33.241981Z",
     "iopub.status.busy": "2021-11-30T17:36:33.239314Z",
     "iopub.status.idle": "2021-11-30T17:36:33.245544Z",
     "shell.execute_reply": "2021-11-30T17:36:33.244960Z",
     "shell.execute_reply.started": "2021-11-30T17:28:05.731719Z"
    },
    "papermill": {
     "duration": 0.036797,
     "end_time": "2021-11-30T17:36:33.245679",
     "exception": false,
     "start_time": "2021-11-30T17:36:33.208882",
     "status": "completed"
    },
    "tags": []
   },
   "outputs": [
    {
     "data": {
      "text/plain": [
       "Unknown                                     15\n",
       "Sea Ray power boats                         15\n",
       "Windy power boats                           11\n",
       "Sunseeker power boats                       10\n",
       "Bayliner power boats                        10\n",
       "                                            ..\n",
       "Terhi power boats                            1\n",
       "Rodriguez Group (Italyachts) power boats     1\n",
       "Majesty Yachts power boats                   1\n",
       "Azimut power boats                           1\n",
       "Lambro power boats                           1\n",
       "Name: Manufacturer, Length: 119, dtype: int64"
      ]
     },
     "execution_count": 19,
     "metadata": {},
     "output_type": "execute_result"
    }
   ],
   "source": [
    "most_viewed_boats['Manufacturer'].value_counts()"
   ]
  },
  {
   "cell_type": "code",
   "execution_count": 20,
   "id": "52b37c24",
   "metadata": {
    "execution": {
     "iopub.execute_input": "2021-11-30T17:36:33.305260Z",
     "iopub.status.busy": "2021-11-30T17:36:33.304405Z",
     "iopub.status.idle": "2021-11-30T17:36:33.308113Z",
     "shell.execute_reply": "2021-11-30T17:36:33.307649Z",
     "shell.execute_reply.started": "2021-11-30T17:28:05.744215Z"
    },
    "papermill": {
     "duration": 0.03696,
     "end_time": "2021-11-30T17:36:33.308258",
     "exception": false,
     "start_time": "2021-11-30T17:36:33.271298",
     "status": "completed"
    },
    "tags": []
   },
   "outputs": [
    {
     "data": {
      "text/plain": [
       "Sport Boat                                  61\n",
       "Motor Yacht                                 40\n",
       "Cabin Boat                                  38\n",
       "Wakeboard/Wakesurf                          15\n",
       "Bowrider                                     8\n",
       "Classic,Runabout                             8\n",
       "Classic                                      7\n",
       "Flybridge                                    7\n",
       "Hardtop                                      7\n",
       "Fishing Boat                                 6\n",
       "Mega Yacht                                   5\n",
       "Runabout                                     5\n",
       "Cabin Boat,Motor Yacht,Sport Boat            4\n",
       "Offshore Boat                                4\n",
       "Pilothouse                                   4\n",
       "House Boat                                   4\n",
       "Motor Yacht,Sport Boat                       4\n",
       "Deck Boat                                    3\n",
       "Sport Boat,Wakeboard/Wakesurf,Water ski      3\n",
       "Classic,Sport Boat                           3\n",
       "Cabin Boat,Motor Yacht                       3\n",
       "Cabin Boat,Trawler                           3\n",
       "Trawler                                      3\n",
       "Classic,Motor Yacht                          2\n",
       "Center console boat                          2\n",
       "Cabin Boat,Sport Boat                        2\n",
       "Cabin Boat,Classic,Motor Yacht               2\n",
       "Classic,Sport Boat,Water ski                 2\n",
       "Hardtop,Motor Yacht                          2\n",
       "Water ski                                    2\n",
       "Sport Boat,Wakeboard/Wakesurf                2\n",
       "Bowrider,Motor Yacht,Wakeboard/Wakesurf      1\n",
       "Bowrider,Wakeboard/Wakesurf                  1\n",
       "Bowrider,Deck Boat,Water ski                 1\n",
       "Motor Yacht,Trawler                          1\n",
       "Cabin Boat,Fishing Boat                      1\n",
       "Cabin Boat,Pilothouse,Sport Boat             1\n",
       "Motor Yacht,Sport Boat,Trawler               1\n",
       "Cabin Boat,House Boat,Trawler                1\n",
       "Cabin Boat,Sport Boat,Wakeboard/Wakesurf     1\n",
       "Classic,House Boat,Motor Yacht               1\n",
       "Cabin Boat,Hardtop,Trawler                   1\n",
       "Cabin Boat,Classic                           1\n",
       "Cabin Boat,House Boat                        1\n",
       "Motor Yacht,Wakeboard/Wakesurf               1\n",
       "Bowrider,Motor Yacht,Sport Boat              1\n",
       "Deck Boat,Pilothouse,Sport Boat              1\n",
       "Cabin Boat,Fishing Boat,Sport Boat           1\n",
       "Name: Boat Type, dtype: int64"
      ]
     },
     "execution_count": 20,
     "metadata": {},
     "output_type": "execute_result"
    }
   ],
   "source": [
    "most_viewed_boats['Boat Type'].value_counts()"
   ]
  },
  {
   "cell_type": "markdown",
   "id": "568f2102",
   "metadata": {
    "papermill": {
     "duration": 0.026177,
     "end_time": "2021-11-30T17:36:33.360960",
     "exception": false,
     "start_time": "2021-11-30T17:36:33.334783",
     "status": "completed"
    },
    "tags": []
   },
   "source": [
    "## characteristics of the most viewed boat listings in the last 7 days"
   ]
  },
  {
   "cell_type": "code",
   "execution_count": 21,
   "id": "dc37c938",
   "metadata": {
    "execution": {
     "iopub.execute_input": "2021-11-30T17:36:33.432624Z",
     "iopub.status.busy": "2021-11-30T17:36:33.427769Z",
     "iopub.status.idle": "2021-11-30T17:36:33.436856Z",
     "shell.execute_reply": "2021-11-30T17:36:33.436209Z",
     "shell.execute_reply.started": "2021-11-30T17:28:05.758074Z"
    },
    "papermill": {
     "duration": 0.048235,
     "end_time": "2021-11-30T17:36:33.437003",
     "exception": false,
     "start_time": "2021-11-30T17:36:33.388768",
     "status": "completed"
    },
    "tags": []
   },
   "outputs": [
    {
     "data": {
      "text/html": [
       "<div>\n",
       "<style scoped>\n",
       "    .dataframe tbody tr th:only-of-type {\n",
       "        vertical-align: middle;\n",
       "    }\n",
       "\n",
       "    .dataframe tbody tr th {\n",
       "        vertical-align: top;\n",
       "    }\n",
       "\n",
       "    .dataframe thead th {\n",
       "        text-align: right;\n",
       "    }\n",
       "</style>\n",
       "<table border=\"1\" class=\"dataframe\">\n",
       "  <thead>\n",
       "    <tr style=\"text-align: right;\">\n",
       "      <th></th>\n",
       "      <th>Price</th>\n",
       "      <th>Boat Type</th>\n",
       "      <th>Manufacturer</th>\n",
       "      <th>Type</th>\n",
       "      <th>Year Built</th>\n",
       "      <th>Length</th>\n",
       "      <th>Width</th>\n",
       "      <th>Material</th>\n",
       "      <th>Location</th>\n",
       "      <th>Number of views last 7 days</th>\n",
       "      <th>price_in_USD</th>\n",
       "    </tr>\n",
       "  </thead>\n",
       "  <tbody>\n",
       "    <tr>\n",
       "      <th>9580</th>\n",
       "      <td>CHF 14900</td>\n",
       "      <td>Motor Yacht</td>\n",
       "      <td>Bayliner power boats</td>\n",
       "      <td>Used boat,Unleaded</td>\n",
       "      <td>1992</td>\n",
       "      <td>7.7</td>\n",
       "      <td>2.46</td>\n",
       "      <td>Plastic</td>\n",
       "      <td>Switzerland Â» Le Landeron (NE)</td>\n",
       "      <td>3263</td>\n",
       "      <td>16125.54</td>\n",
       "    </tr>\n",
       "  </tbody>\n",
       "</table>\n",
       "</div>"
      ],
      "text/plain": [
       "          Price    Boat Type          Manufacturer                Type  \\\n",
       "9580  CHF 14900  Motor Yacht  Bayliner power boats  Used boat,Unleaded   \n",
       "\n",
       "      Year Built  Length  Width Material                         Location  \\\n",
       "9580        1992     7.7   2.46  Plastic  Switzerland Â» Le Landeron (NE)   \n",
       "\n",
       "      Number of views last 7 days  price_in_USD  \n",
       "9580                         3263      16125.54  "
      ]
     },
     "execution_count": 21,
     "metadata": {},
     "output_type": "execute_result"
    }
   ],
   "source": [
    "data.loc[ data['Number of views last 7 days'] == data['Number of views last 7 days'].nlargest(1).item() ]"
   ]
  },
  {
   "cell_type": "markdown",
   "id": "5ee69cab",
   "metadata": {
    "papermill": {
     "duration": 0.026398,
     "end_time": "2021-11-30T17:36:33.489783",
     "exception": false,
     "start_time": "2021-11-30T17:36:33.463385",
     "status": "completed"
    },
    "tags": []
   },
   "source": [
    "## is it the most expensive boats that get the most views?\n",
    "#### No on the contrary the cheepest boats that get most views."
   ]
  },
  {
   "cell_type": "markdown",
   "id": "6acb43f5",
   "metadata": {
    "papermill": {
     "duration": 0.02733,
     "end_time": "2021-11-30T17:36:33.544008",
     "exception": false,
     "start_time": "2021-11-30T17:36:33.516678",
     "status": "completed"
    },
    "tags": []
   },
   "source": [
    "## common features among the most viewed boats:\n",
    "* year built > 1960 with mean 1997 and std 17\n",
    "* lenght < 20 with mean 8.11 and std 2.77\n",
    "* 2.5 < width < 5 with mean 2.77 and std 0.86\n",
    "* price < 400,000$ with mean 65238 and std 75088\n",
    "* the lowest the price the most viewd\n",
    "\n",
    "### most viewed type : with respect to its number of occurrence\n",
    "    * Used boat,Unleaded               168\n",
    "\t* Used boat,Diesel                 72\n",
    "\t* Used boat                        14\n",
    "\t* new boat from stock,Unleaded     7\n",
    "\n",
    "### most viewed Boat Type : with respect to its number of occurrence\n",
    "    * Sport Boat                                  61\n",
    "\t* Motor Yacht                                 40\n",
    "\t* Cabin Boat                                  38\n",
    "\t* Wakeboard/Wakesurf                          15\n",
    "\n",
    "\n",
    "#### note : \n",
    "    * std --> standerd divion\n",
    "    * mean --> the average of the column"
   ]
  }
 ],
 "metadata": {
  "kernelspec": {
   "display_name": "Python 3",
   "language": "python",
   "name": "python3"
  },
  "language_info": {
   "codemirror_mode": {
    "name": "ipython",
    "version": 3
   },
   "file_extension": ".py",
   "mimetype": "text/x-python",
   "name": "python",
   "nbconvert_exporter": "python",
   "pygments_lexer": "ipython3",
   "version": "3.9.7"
  },
  "papermill": {
   "default_parameters": {},
   "duration": 15.395869,
   "end_time": "2021-11-30T17:36:34.282283",
   "environment_variables": {},
   "exception": null,
   "input_path": "__notebook__.ipynb",
   "output_path": "__notebook__.ipynb",
   "parameters": {},
   "start_time": "2021-11-30T17:36:18.886414",
   "version": "2.3.3"
  }
 },
 "nbformat": 4,
 "nbformat_minor": 5
}
