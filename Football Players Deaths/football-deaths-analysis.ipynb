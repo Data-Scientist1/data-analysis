{
 "cells": [
  {
   "cell_type": "code",
   "execution_count": 1,
   "id": "3e871e1f",
   "metadata": {
    "_cell_guid": "b1076dfc-b9ad-4769-8c92-a6c4dae69d19",
    "_uuid": "8f2839f25d086af736a60e9eeb907d3b93b6e0e5",
    "execution": {
     "iopub.execute_input": "2021-12-05T08:41:00.431580Z",
     "iopub.status.busy": "2021-12-05T08:41:00.430196Z",
     "iopub.status.idle": "2021-12-05T08:41:01.292969Z",
     "shell.execute_reply": "2021-12-05T08:41:01.293413Z",
     "shell.execute_reply.started": "2021-12-05T08:39:48.373192Z"
    },
    "papermill": {
     "duration": 0.896819,
     "end_time": "2021-12-05T08:41:01.293741",
     "exception": false,
     "start_time": "2021-12-05T08:41:00.396922",
     "status": "completed"
    },
    "tags": []
   },
   "outputs": [],
   "source": [
    "import numpy as np # linear algebra\n",
    "import pandas as pd # data processing, CSV file I/O (e.g. pd.read_csv)\n",
    "import matplotlib.pyplot as plt\n",
    "import seaborn as sns\n",
    "\n",
    "sns.set()"
   ]
  },
  {
   "cell_type": "markdown",
   "id": "6e47987f",
   "metadata": {
    "papermill": {
     "duration": 0.015462,
     "end_time": "2021-12-05T08:41:01.325207",
     "exception": false,
     "start_time": "2021-12-05T08:41:01.309745",
     "status": "completed"
    },
    "tags": []
   },
   "source": [
    "### Importing the data"
   ]
  },
  {
   "cell_type": "code",
   "execution_count": 2,
   "id": "3de5d46f",
   "metadata": {
    "execution": {
     "iopub.execute_input": "2021-12-05T08:41:01.361399Z",
     "iopub.status.busy": "2021-12-05T08:41:01.360718Z",
     "iopub.status.idle": "2021-12-05T08:41:01.391741Z",
     "shell.execute_reply": "2021-12-05T08:41:01.392246Z",
     "shell.execute_reply.started": "2021-12-05T08:39:48.396927Z"
    },
    "papermill": {
     "duration": 0.051766,
     "end_time": "2021-12-05T08:41:01.392411",
     "exception": false,
     "start_time": "2021-12-05T08:41:01.340645",
     "status": "completed"
    },
    "tags": []
   },
   "outputs": [
    {
     "data": {
      "text/html": [
       "<div>\n",
       "<style scoped>\n",
       "    .dataframe tbody tr th:only-of-type {\n",
       "        vertical-align: middle;\n",
       "    }\n",
       "\n",
       "    .dataframe tbody tr th {\n",
       "        vertical-align: top;\n",
       "    }\n",
       "\n",
       "    .dataframe thead th {\n",
       "        text-align: right;\n",
       "    }\n",
       "</style>\n",
       "<table border=\"1\" class=\"dataframe\">\n",
       "  <thead>\n",
       "    <tr style=\"text-align: right;\">\n",
       "      <th></th>\n",
       "      <th>row_id</th>\n",
       "      <th>incident_date</th>\n",
       "      <th>player_name</th>\n",
       "      <th>player_country</th>\n",
       "      <th>team_country</th>\n",
       "      <th>player_age</th>\n",
       "      <th>player_team_name</th>\n",
       "      <th>incident_description</th>\n",
       "      <th>heart_related</th>\n",
       "      <th>cardiac_related</th>\n",
       "      <th>collapsed</th>\n",
       "      <th>lightning</th>\n",
       "      <th>collision</th>\n",
       "    </tr>\n",
       "  </thead>\n",
       "  <tbody>\n",
       "    <tr>\n",
       "      <th>0</th>\n",
       "      <td>1</td>\n",
       "      <td>1889-01-13</td>\n",
       "      <td>William Cropper</td>\n",
       "      <td>England</td>\n",
       "      <td>England</td>\n",
       "      <td>26.0</td>\n",
       "      <td>Staveley</td>\n",
       "      <td>Ruptured bowel in a match against Grimsby Town...</td>\n",
       "      <td>0</td>\n",
       "      <td>0</td>\n",
       "      <td>0</td>\n",
       "      <td>0</td>\n",
       "      <td>0</td>\n",
       "    </tr>\n",
       "    <tr>\n",
       "      <th>1</th>\n",
       "      <td>2</td>\n",
       "      <td>1892-01-11</td>\n",
       "      <td>James Dunlop</td>\n",
       "      <td>Scotland</td>\n",
       "      <td>Scotland</td>\n",
       "      <td>21.0</td>\n",
       "      <td>St Mirren</td>\n",
       "      <td>Tetanus from fall on piece of glass in a frien...</td>\n",
       "      <td>0</td>\n",
       "      <td>0</td>\n",
       "      <td>0</td>\n",
       "      <td>0</td>\n",
       "      <td>0</td>\n",
       "    </tr>\n",
       "    <tr>\n",
       "      <th>2</th>\n",
       "      <td>3</td>\n",
       "      <td>1893-11-12</td>\n",
       "      <td>John Henry Morris</td>\n",
       "      <td>England</td>\n",
       "      <td>England</td>\n",
       "      <td>26.0</td>\n",
       "      <td>Shrewsbury Town</td>\n",
       "      <td>Internal haemorrhage following a bad tackle in...</td>\n",
       "      <td>0</td>\n",
       "      <td>0</td>\n",
       "      <td>0</td>\n",
       "      <td>0</td>\n",
       "      <td>0</td>\n",
       "    </tr>\n",
       "    <tr>\n",
       "      <th>3</th>\n",
       "      <td>4</td>\n",
       "      <td>1893-11-23</td>\n",
       "      <td>Walter Bannister</td>\n",
       "      <td>England</td>\n",
       "      <td>England</td>\n",
       "      <td>24.0</td>\n",
       "      <td>Chesterfield Town</td>\n",
       "      <td>Rupture of the kidney from a tackle in game ag...</td>\n",
       "      <td>0</td>\n",
       "      <td>0</td>\n",
       "      <td>0</td>\n",
       "      <td>0</td>\n",
       "      <td>0</td>\n",
       "    </tr>\n",
       "    <tr>\n",
       "      <th>4</th>\n",
       "      <td>5</td>\n",
       "      <td>1896-03-28</td>\n",
       "      <td>Teddy Smith</td>\n",
       "      <td>England</td>\n",
       "      <td>England</td>\n",
       "      <td>27.0</td>\n",
       "      <td>Bedminster</td>\n",
       "      <td>Suffered severe concussion following a clash o...</td>\n",
       "      <td>0</td>\n",
       "      <td>0</td>\n",
       "      <td>0</td>\n",
       "      <td>0</td>\n",
       "      <td>0</td>\n",
       "    </tr>\n",
       "  </tbody>\n",
       "</table>\n",
       "</div>"
      ],
      "text/plain": [
       "   row_id incident_date        player_name player_country team_country  \\\n",
       "0       1    1889-01-13    William Cropper        England      England   \n",
       "1       2    1892-01-11       James Dunlop       Scotland     Scotland   \n",
       "2       3    1893-11-12  John Henry Morris        England      England   \n",
       "3       4    1893-11-23   Walter Bannister        England      England   \n",
       "4       5    1896-03-28        Teddy Smith        England      England   \n",
       "\n",
       "   player_age   player_team_name  \\\n",
       "0        26.0           Staveley   \n",
       "1        21.0          St Mirren   \n",
       "2        26.0    Shrewsbury Town   \n",
       "3        24.0  Chesterfield Town   \n",
       "4        27.0         Bedminster   \n",
       "\n",
       "                                incident_description  heart_related  \\\n",
       "0  Ruptured bowel in a match against Grimsby Town...              0   \n",
       "1  Tetanus from fall on piece of glass in a frien...              0   \n",
       "2  Internal haemorrhage following a bad tackle in...              0   \n",
       "3  Rupture of the kidney from a tackle in game ag...              0   \n",
       "4  Suffered severe concussion following a clash o...              0   \n",
       "\n",
       "   cardiac_related  collapsed  lightning  collision  \n",
       "0                0          0          0          0  \n",
       "1                0          0          0          0  \n",
       "2                0          0          0          0  \n",
       "3                0          0          0          0  \n",
       "4                0          0          0          0  "
      ]
     },
     "execution_count": 2,
     "metadata": {},
     "output_type": "execute_result"
    }
   ],
   "source": [
    "data = pd.read_csv('football_deaths.csv')\n",
    "data.head()"
   ]
  },
  {
   "cell_type": "markdown",
   "id": "70977864",
   "metadata": {
    "papermill": {
     "duration": 0.015681,
     "end_time": "2021-12-05T08:41:01.424023",
     "exception": false,
     "start_time": "2021-12-05T08:41:01.408342",
     "status": "completed"
    },
    "tags": []
   },
   "source": [
    "## Data Cleaning"
   ]
  },
  {
   "cell_type": "code",
   "execution_count": 3,
   "id": "de76a644",
   "metadata": {
    "execution": {
     "iopub.execute_input": "2021-12-05T08:41:01.459953Z",
     "iopub.status.busy": "2021-12-05T08:41:01.459016Z",
     "iopub.status.idle": "2021-12-05T08:41:01.469357Z",
     "shell.execute_reply": "2021-12-05T08:41:01.469896Z",
     "shell.execute_reply.started": "2021-12-05T08:39:48.420271Z"
    },
    "papermill": {
     "duration": 0.030004,
     "end_time": "2021-12-05T08:41:01.470068",
     "exception": false,
     "start_time": "2021-12-05T08:41:01.440064",
     "status": "completed"
    },
    "tags": []
   },
   "outputs": [],
   "source": [
    "data['incident_date'] = pd.to_datetime(data['incident_date'])"
   ]
  },
  {
   "cell_type": "markdown",
   "id": "50fff876",
   "metadata": {
    "papermill": {
     "duration": 0.015853,
     "end_time": "2021-12-05T08:41:01.502852",
     "exception": false,
     "start_time": "2021-12-05T08:41:01.486999",
     "status": "completed"
    },
    "tags": []
   },
   "source": [
    "### search for nan values"
   ]
  },
  {
   "cell_type": "code",
   "execution_count": 4,
   "id": "2adc00d9",
   "metadata": {
    "execution": {
     "iopub.execute_input": "2021-12-05T08:41:01.539010Z",
     "iopub.status.busy": "2021-12-05T08:41:01.538088Z",
     "iopub.status.idle": "2021-12-05T08:41:01.545915Z",
     "shell.execute_reply": "2021-12-05T08:41:01.546372Z",
     "shell.execute_reply.started": "2021-12-05T08:39:48.428183Z"
    },
    "papermill": {
     "duration": 0.027691,
     "end_time": "2021-12-05T08:41:01.546563",
     "exception": false,
     "start_time": "2021-12-05T08:41:01.518872",
     "status": "completed"
    },
    "tags": []
   },
   "outputs": [
    {
     "data": {
      "text/plain": [
       "row_id                   0\n",
       "incident_date            0\n",
       "player_name              0\n",
       "player_country           0\n",
       "team_country             2\n",
       "player_age              15\n",
       "player_team_name         0\n",
       "incident_description     0\n",
       "heart_related            0\n",
       "cardiac_related          0\n",
       "collapsed                0\n",
       "lightning                0\n",
       "collision                0\n",
       "dtype: int64"
      ]
     },
     "execution_count": 4,
     "metadata": {},
     "output_type": "execute_result"
    }
   ],
   "source": [
    "data.isna().sum()"
   ]
  },
  {
   "cell_type": "markdown",
   "id": "4009931c",
   "metadata": {
    "papermill": {
     "duration": 0.016069,
     "end_time": "2021-12-05T08:41:01.578938",
     "exception": false,
     "start_time": "2021-12-05T08:41:01.562869",
     "status": "completed"
    },
    "tags": []
   },
   "source": [
    "### replace nan value of player age by its mean"
   ]
  },
  {
   "cell_type": "code",
   "execution_count": 5,
   "id": "8618847c",
   "metadata": {
    "execution": {
     "iopub.execute_input": "2021-12-05T08:41:01.614735Z",
     "iopub.status.busy": "2021-12-05T08:41:01.614093Z",
     "iopub.status.idle": "2021-12-05T08:41:01.619122Z",
     "shell.execute_reply": "2021-12-05T08:41:01.618640Z",
     "shell.execute_reply.started": "2021-12-05T08:39:48.444912Z"
    },
    "papermill": {
     "duration": 0.024258,
     "end_time": "2021-12-05T08:41:01.619262",
     "exception": false,
     "start_time": "2021-12-05T08:41:01.595004",
     "status": "completed"
    },
    "tags": []
   },
   "outputs": [],
   "source": [
    "data['player_age'].fillna(int(np.round(data['player_age'].mean(skipna=True))), inplace=True)"
   ]
  },
  {
   "cell_type": "markdown",
   "id": "9e761cfc",
   "metadata": {
    "papermill": {
     "duration": 0.016006,
     "end_time": "2021-12-05T08:41:01.651882",
     "exception": false,
     "start_time": "2021-12-05T08:41:01.635876",
     "status": "completed"
    },
    "tags": []
   },
   "source": [
    "### drop nan value"
   ]
  },
  {
   "cell_type": "code",
   "execution_count": 6,
   "id": "1666434b",
   "metadata": {
    "execution": {
     "iopub.execute_input": "2021-12-05T08:41:01.687874Z",
     "iopub.status.busy": "2021-12-05T08:41:01.687264Z",
     "iopub.status.idle": "2021-12-05T08:41:01.698411Z",
     "shell.execute_reply": "2021-12-05T08:41:01.697800Z",
     "shell.execute_reply.started": "2021-12-05T08:39:48.460068Z"
    },
    "papermill": {
     "duration": 0.030228,
     "end_time": "2021-12-05T08:41:01.698590",
     "exception": false,
     "start_time": "2021-12-05T08:41:01.668362",
     "status": "completed"
    },
    "tags": []
   },
   "outputs": [],
   "source": [
    "data = data.dropna()"
   ]
  },
  {
   "cell_type": "code",
   "execution_count": 7,
   "id": "05f7e93c",
   "metadata": {
    "execution": {
     "iopub.execute_input": "2021-12-05T08:41:01.738838Z",
     "iopub.status.busy": "2021-12-05T08:41:01.738177Z",
     "iopub.status.idle": "2021-12-05T08:41:01.741635Z",
     "shell.execute_reply": "2021-12-05T08:41:01.741109Z",
     "shell.execute_reply.started": "2021-12-05T08:39:48.474428Z"
    },
    "papermill": {
     "duration": 0.026736,
     "end_time": "2021-12-05T08:41:01.741765",
     "exception": false,
     "start_time": "2021-12-05T08:41:01.715029",
     "status": "completed"
    },
    "tags": []
   },
   "outputs": [
    {
     "data": {
      "text/plain": [
       "row_id                  0\n",
       "incident_date           0\n",
       "player_name             0\n",
       "player_country          0\n",
       "team_country            0\n",
       "player_age              0\n",
       "player_team_name        0\n",
       "incident_description    0\n",
       "heart_related           0\n",
       "cardiac_related         0\n",
       "collapsed               0\n",
       "lightning               0\n",
       "collision               0\n",
       "dtype: int64"
      ]
     },
     "execution_count": 7,
     "metadata": {},
     "output_type": "execute_result"
    }
   ],
   "source": [
    "data.isna().sum()"
   ]
  },
  {
   "cell_type": "markdown",
   "id": "dba440db",
   "metadata": {
    "papermill": {
     "duration": 0.01625,
     "end_time": "2021-12-05T08:41:01.774540",
     "exception": false,
     "start_time": "2021-12-05T08:41:01.758290",
     "status": "completed"
    },
    "tags": []
   },
   "source": [
    "## Data Visualization"
   ]
  },
  {
   "cell_type": "code",
   "execution_count": 8,
   "id": "5816bb18",
   "metadata": {
    "execution": {
     "iopub.execute_input": "2021-12-05T08:41:01.821451Z",
     "iopub.status.busy": "2021-12-05T08:41:01.820509Z",
     "iopub.status.idle": "2021-12-05T08:41:01.824672Z",
     "shell.execute_reply": "2021-12-05T08:41:01.824171Z",
     "shell.execute_reply.started": "2021-12-05T08:39:48.488995Z"
    },
    "papermill": {
     "duration": 0.033827,
     "end_time": "2021-12-05T08:41:01.824808",
     "exception": false,
     "start_time": "2021-12-05T08:41:01.790981",
     "status": "completed"
    },
    "tags": []
   },
   "outputs": [
    {
     "data": {
      "text/html": [
       "<div>\n",
       "<style scoped>\n",
       "    .dataframe tbody tr th:only-of-type {\n",
       "        vertical-align: middle;\n",
       "    }\n",
       "\n",
       "    .dataframe tbody tr th {\n",
       "        vertical-align: top;\n",
       "    }\n",
       "\n",
       "    .dataframe thead th {\n",
       "        text-align: right;\n",
       "    }\n",
       "</style>\n",
       "<table border=\"1\" class=\"dataframe\">\n",
       "  <thead>\n",
       "    <tr style=\"text-align: right;\">\n",
       "      <th></th>\n",
       "      <th>row_id</th>\n",
       "      <th>incident_date</th>\n",
       "      <th>player_name</th>\n",
       "      <th>player_country</th>\n",
       "      <th>team_country</th>\n",
       "      <th>player_age</th>\n",
       "      <th>player_team_name</th>\n",
       "      <th>incident_description</th>\n",
       "      <th>heart_related</th>\n",
       "      <th>cardiac_related</th>\n",
       "      <th>collapsed</th>\n",
       "      <th>lightning</th>\n",
       "      <th>collision</th>\n",
       "    </tr>\n",
       "  </thead>\n",
       "  <tbody>\n",
       "    <tr>\n",
       "      <th>0</th>\n",
       "      <td>1</td>\n",
       "      <td>1889-01-13</td>\n",
       "      <td>William Cropper</td>\n",
       "      <td>England</td>\n",
       "      <td>England</td>\n",
       "      <td>26.0</td>\n",
       "      <td>Staveley</td>\n",
       "      <td>Ruptured bowel in a match against Grimsby Town...</td>\n",
       "      <td>0</td>\n",
       "      <td>0</td>\n",
       "      <td>0</td>\n",
       "      <td>0</td>\n",
       "      <td>0</td>\n",
       "    </tr>\n",
       "  </tbody>\n",
       "</table>\n",
       "</div>"
      ],
      "text/plain": [
       "   row_id incident_date      player_name player_country team_country  \\\n",
       "0       1    1889-01-13  William Cropper        England      England   \n",
       "\n",
       "   player_age player_team_name  \\\n",
       "0        26.0         Staveley   \n",
       "\n",
       "                                incident_description  heart_related  \\\n",
       "0  Ruptured bowel in a match against Grimsby Town...              0   \n",
       "\n",
       "   cardiac_related  collapsed  lightning  collision  \n",
       "0                0          0          0          0  "
      ]
     },
     "execution_count": 8,
     "metadata": {},
     "output_type": "execute_result"
    }
   ],
   "source": [
    "data.head(1)\n"
   ]
  },
  {
   "cell_type": "markdown",
   "id": "e5176b81",
   "metadata": {
    "papermill": {
     "duration": 0.016742,
     "end_time": "2021-12-05T08:41:01.858485",
     "exception": false,
     "start_time": "2021-12-05T08:41:01.841743",
     "status": "completed"
    },
    "tags": []
   },
   "source": [
    "### Age wise number of deaths"
   ]
  },
  {
   "cell_type": "code",
   "execution_count": 9,
   "id": "6ee0dc52",
   "metadata": {
    "execution": {
     "iopub.execute_input": "2021-12-05T08:41:01.896687Z",
     "iopub.status.busy": "2021-12-05T08:41:01.895697Z",
     "iopub.status.idle": "2021-12-05T08:41:02.458115Z",
     "shell.execute_reply": "2021-12-05T08:41:02.457644Z",
     "shell.execute_reply.started": "2021-12-05T08:39:48.507726Z"
    },
    "papermill": {
     "duration": 0.582886,
     "end_time": "2021-12-05T08:41:02.458255",
     "exception": false,
     "start_time": "2021-12-05T08:41:01.875369",
     "status": "completed"
    },
    "tags": []
   },
   "outputs": [
    {
     "data": {
      "text/plain": [
       "<seaborn.axisgrid.FacetGrid at 0x7f78a123fd90>"
      ]
     },
     "execution_count": 9,
     "metadata": {},
     "output_type": "execute_result"
    },
    {
     "data": {
      "image/png": "[encoded data removed]",
      "text/plain": [
       "<Figure size 360x360 with 1 Axes>"
      ]
     },
     "metadata": {},
     "output_type": "display_data"
    }
   ],
   "source": [
    "sns.displot(data=data, x='player_age')"
   ]
  },
  {
   "cell_type": "markdown",
   "id": "3352715e",
   "metadata": {
    "papermill": {
     "duration": 0.01721,
     "end_time": "2021-12-05T08:41:02.493170",
     "exception": false,
     "start_time": "2021-12-05T08:41:02.475960",
     "status": "completed"
    },
    "tags": []
   },
   "source": [
    "### player country wise number of deaths"
   ]
  },
  {
   "cell_type": "code",
   "execution_count": 10,
   "id": "5459c06b",
   "metadata": {
    "execution": {
     "iopub.execute_input": "2021-12-05T08:41:02.535993Z",
     "iopub.status.busy": "2021-12-05T08:41:02.535352Z",
     "iopub.status.idle": "2021-12-05T08:41:02.536991Z",
     "shell.execute_reply": "2021-12-05T08:41:02.537461Z",
     "shell.execute_reply.started": "2021-12-05T08:39:48.852291Z"
    },
    "papermill": {
     "duration": 0.026834,
     "end_time": "2021-12-05T08:41:02.537629",
     "exception": false,
     "start_time": "2021-12-05T08:41:02.510795",
     "status": "completed"
    },
    "tags": []
   },
   "outputs": [],
   "source": [
    "df = pd.DataFrame(data['player_country'].value_counts().loc[data['player_country'].value_counts() > 1])"
   ]
  },
  {
   "cell_type": "code",
   "execution_count": 11,
   "id": "719420d3",
   "metadata": {
    "execution": {
     "iopub.execute_input": "2021-12-05T08:41:02.612886Z",
     "iopub.status.busy": "2021-12-05T08:41:02.575617Z",
     "iopub.status.idle": "2021-12-05T08:41:03.175626Z",
     "shell.execute_reply": "2021-12-05T08:41:03.176135Z",
     "shell.execute_reply.started": "2021-12-05T08:39:48.859680Z"
    },
    "papermill": {
     "duration": 0.620911,
     "end_time": "2021-12-05T08:41:03.176311",
     "exception": false,
     "start_time": "2021-12-05T08:41:02.555400",
     "status": "completed"
    },
    "tags": []
   },
   "outputs": [
    {
     "data": {
      "image/png": "[encoded data removed]",
      "text/plain": [
       "<Figure size 1080x576 with 1 Axes>"
      ]
     },
     "metadata": {},
     "output_type": "display_data"
    }
   ],
   "source": [
    "plt.figure(figsize=(15, 8))\n",
    "ax = sns.barplot(x=df.index, y=df['player_country'])\n",
    "ax.set_xticklabels(ax.get_xticklabels(),rotation = 90, fontdict={'fontsize': 15});"
   ]
  },
  {
   "cell_type": "markdown",
   "id": "4b0f2c01",
   "metadata": {
    "papermill": {
     "duration": 0.019091,
     "end_time": "2021-12-05T08:41:03.215018",
     "exception": false,
     "start_time": "2021-12-05T08:41:03.195927",
     "status": "completed"
    },
    "tags": []
   },
   "source": [
    "### team country wise number of deaths"
   ]
  },
  {
   "cell_type": "code",
   "execution_count": 12,
   "id": "2d8f4cfe",
   "metadata": {
    "execution": {
     "iopub.execute_input": "2021-12-05T08:41:03.296693Z",
     "iopub.status.busy": "2021-12-05T08:41:03.261549Z",
     "iopub.status.idle": "2021-12-05T08:41:03.903079Z",
     "shell.execute_reply": "2021-12-05T08:41:03.903553Z",
     "shell.execute_reply.started": "2021-12-05T08:39:49.438664Z"
    },
    "papermill": {
     "duration": 0.669128,
     "end_time": "2021-12-05T08:41:03.903735",
     "exception": false,
     "start_time": "2021-12-05T08:41:03.234607",
     "status": "completed"
    },
    "tags": []
   },
   "outputs": [
    {
     "data": {
      "image/png": "[encoded data removed]",
      "text/plain": [
       "<Figure size 1080x576 with 1 Axes>"
      ]
     },
     "metadata": {},
     "output_type": "display_data"
    }
   ],
   "source": [
    "df = pd.DataFrame(data['team_country'].value_counts().loc[data['team_country'].value_counts() > 1])\n",
    "plt.figure(figsize=(15, 8))\n",
    "ax = sns.barplot(x=df.index, y=df['team_country'])\n",
    "ax.set_xticklabels(ax.get_xticklabels(),rotation = 90, fontdict={'fontsize': 15});"
   ]
  },
  {
   "cell_type": "markdown",
   "id": "60ce5b3d",
   "metadata": {
    "papermill": {
     "duration": 0.021808,
     "end_time": "2021-12-05T08:41:03.947225",
     "exception": false,
     "start_time": "2021-12-05T08:41:03.925417",
     "status": "completed"
    },
    "tags": []
   },
   "source": [
    "### incident date wise number of deaths with respect to heart issues"
   ]
  },
  {
   "cell_type": "code",
   "execution_count": 13,
   "id": "1b02d8c7",
   "metadata": {
    "execution": {
     "iopub.execute_input": "2021-12-05T08:41:03.996918Z",
     "iopub.status.busy": "2021-12-05T08:41:03.993830Z",
     "iopub.status.idle": "2021-12-05T08:41:04.844121Z",
     "shell.execute_reply": "2021-12-05T08:41:04.844549Z",
     "shell.execute_reply.started": "2021-12-05T08:40:04.213885Z"
    },
    "papermill": {
     "duration": 0.875409,
     "end_time": "2021-12-05T08:41:04.844719",
     "exception": false,
     "start_time": "2021-12-05T08:41:03.969310",
     "status": "completed"
    },
    "tags": []
   },
   "outputs": [
    {
     "data": {
      "image/png": "[encoded data removed]",
      "text/plain": [
       "<Figure size 720x360 with 2 Axes>"
      ]
     },
     "metadata": {},
     "output_type": "display_data"
    }
   ],
   "source": [
    "sns.displot(data=data, x='incident_date', kde=True, col='heart_related');"
   ]
  },
  {
   "cell_type": "code",
   "execution_count": 14,
   "id": "c320df25",
   "metadata": {
    "execution": {
     "iopub.execute_input": "2021-12-05T08:41:04.893372Z",
     "iopub.status.busy": "2021-12-05T08:41:04.892774Z",
     "iopub.status.idle": "2021-12-05T08:41:04.899961Z",
     "shell.execute_reply": "2021-12-05T08:41:04.899297Z",
     "shell.execute_reply.started": "2021-12-05T08:39:51.023361Z"
    },
    "papermill": {
     "duration": 0.032134,
     "end_time": "2021-12-05T08:41:04.900098",
     "exception": false,
     "start_time": "2021-12-05T08:41:04.867964",
     "status": "completed"
    },
    "tags": []
   },
   "outputs": [
    {
     "data": {
      "text/plain": [
       "0      0\n",
       "1      0\n",
       "2      0\n",
       "3      0\n",
       "4      0\n",
       "      ..\n",
       "224    0\n",
       "225    0\n",
       "226    0\n",
       "227    0\n",
       "228    1\n",
       "Name: heart_related, Length: 227, dtype: int64"
      ]
     },
     "execution_count": 14,
     "metadata": {},
     "output_type": "execute_result"
    }
   ],
   "source": [
    "data['heart_related']"
   ]
  },
  {
   "cell_type": "markdown",
   "id": "724381ab",
   "metadata": {
    "papermill": {
     "duration": 0.022326,
     "end_time": "2021-12-05T08:41:04.944969",
     "exception": false,
     "start_time": "2021-12-05T08:41:04.922643",
     "status": "completed"
    },
    "tags": []
   },
   "source": [
    "### the relation between incident date and player age"
   ]
  },
  {
   "cell_type": "code",
   "execution_count": 15,
   "id": "69a4ce5b",
   "metadata": {
    "execution": {
     "iopub.execute_input": "2021-12-05T08:41:04.995169Z",
     "iopub.status.busy": "2021-12-05T08:41:04.994542Z",
     "iopub.status.idle": "2021-12-05T08:41:05.454408Z",
     "shell.execute_reply": "2021-12-05T08:41:05.454951Z",
     "shell.execute_reply.started": "2021-12-05T08:40:13.220385Z"
    },
    "papermill": {
     "duration": 0.487452,
     "end_time": "2021-12-05T08:41:05.455142",
     "exception": false,
     "start_time": "2021-12-05T08:41:04.967690",
     "status": "completed"
    },
    "tags": []
   },
   "outputs": [
    {
     "data": {
      "image/png": "[encoded data removed]",
      "text/plain": [
       "<Figure size 360x360 with 1 Axes>"
      ]
     },
     "metadata": {},
     "output_type": "display_data"
    }
   ],
   "source": [
    "sns.relplot(data=data, x='incident_date', y='player_age');"
   ]
  },
  {
   "cell_type": "code",
   "execution_count": 16,
   "id": "a23a9551",
   "metadata": {
    "execution": {
     "iopub.execute_input": "2021-12-05T08:41:05.505792Z",
     "iopub.status.busy": "2021-12-05T08:41:05.505171Z",
     "iopub.status.idle": "2021-12-05T08:41:05.517852Z",
     "shell.execute_reply": "2021-12-05T08:41:05.518350Z",
     "shell.execute_reply.started": "2021-12-05T08:39:51.438424Z"
    },
    "papermill": {
     "duration": 0.039539,
     "end_time": "2021-12-05T08:41:05.518667",
     "exception": false,
     "start_time": "2021-12-05T08:41:05.479128",
     "status": "completed"
    },
    "tags": []
   },
   "outputs": [
    {
     "data": {
      "text/html": [
       "<div>\n",
       "<style scoped>\n",
       "    .dataframe tbody tr th:only-of-type {\n",
       "        vertical-align: middle;\n",
       "    }\n",
       "\n",
       "    .dataframe tbody tr th {\n",
       "        vertical-align: top;\n",
       "    }\n",
       "\n",
       "    .dataframe thead th {\n",
       "        text-align: right;\n",
       "    }\n",
       "</style>\n",
       "<table border=\"1\" class=\"dataframe\">\n",
       "  <thead>\n",
       "    <tr style=\"text-align: right;\">\n",
       "      <th></th>\n",
       "      <th>row_id</th>\n",
       "      <th>incident_date</th>\n",
       "      <th>player_name</th>\n",
       "      <th>player_country</th>\n",
       "      <th>team_country</th>\n",
       "      <th>player_age</th>\n",
       "      <th>player_team_name</th>\n",
       "      <th>incident_description</th>\n",
       "      <th>heart_related</th>\n",
       "      <th>cardiac_related</th>\n",
       "      <th>collapsed</th>\n",
       "      <th>lightning</th>\n",
       "      <th>collision</th>\n",
       "    </tr>\n",
       "  </thead>\n",
       "  <tbody>\n",
       "    <tr>\n",
       "      <th>0</th>\n",
       "      <td>1</td>\n",
       "      <td>1889-01-13</td>\n",
       "      <td>William Cropper</td>\n",
       "      <td>England</td>\n",
       "      <td>England</td>\n",
       "      <td>26.0</td>\n",
       "      <td>Staveley</td>\n",
       "      <td>Ruptured bowel in a match against Grimsby Town...</td>\n",
       "      <td>0</td>\n",
       "      <td>0</td>\n",
       "      <td>0</td>\n",
       "      <td>0</td>\n",
       "      <td>0</td>\n",
       "    </tr>\n",
       "  </tbody>\n",
       "</table>\n",
       "</div>"
      ],
      "text/plain": [
       "   row_id incident_date      player_name player_country team_country  \\\n",
       "0       1    1889-01-13  William Cropper        England      England   \n",
       "\n",
       "   player_age player_team_name  \\\n",
       "0        26.0         Staveley   \n",
       "\n",
       "                                incident_description  heart_related  \\\n",
       "0  Ruptured bowel in a match against Grimsby Town...              0   \n",
       "\n",
       "   cardiac_related  collapsed  lightning  collision  \n",
       "0                0          0          0          0  "
      ]
     },
     "execution_count": 16,
     "metadata": {},
     "output_type": "execute_result"
    }
   ],
   "source": [
    "data.head(1)"
   ]
  },
  {
   "cell_type": "markdown",
   "id": "2f450396",
   "metadata": {
    "papermill": {
     "duration": 0.023701,
     "end_time": "2021-12-05T08:41:05.565922",
     "exception": false,
     "start_time": "2021-12-05T08:41:05.542221",
     "status": "completed"
    },
    "tags": []
   },
   "source": [
    "###  heart_related, cardiac_related, collapsed, lightning, collision wise number of deaths\n"
   ]
  },
  {
   "cell_type": "code",
   "execution_count": 17,
   "id": "679983f9",
   "metadata": {
    "execution": {
     "iopub.execute_input": "2021-12-05T08:41:05.623840Z",
     "iopub.status.busy": "2021-12-05T08:41:05.615398Z",
     "iopub.status.idle": "2021-12-05T08:41:08.841410Z",
     "shell.execute_reply": "2021-12-05T08:41:08.841920Z",
     "shell.execute_reply.started": "2021-12-05T08:40:21.845596Z"
    },
    "papermill": {
     "duration": 3.252508,
     "end_time": "2021-12-05T08:41:08.842092",
     "exception": false,
     "start_time": "2021-12-05T08:41:05.589584",
     "status": "completed"
    },
    "tags": []
   },
   "outputs": [
    {
     "data": {
      "image/png": "[encoded data removed]",
      "text/plain": [
       "<Figure size 900x900 with 30 Axes>"
      ]
     },
     "metadata": {},
     "output_type": "display_data"
    }
   ],
   "source": [
    "def hide_current_axis(*args, **kwds):\n",
    "    plt.gca().set_visible(False)\n",
    "    \n",
    "g = sns.pairplot(data=data,\n",
    "                 x_vars=['heart_related', 'cardiac_related', 'collapsed', 'lightning', 'collision'],\n",
    "                 y_vars=['heart_related', 'cardiac_related', 'collapsed', 'lightning', 'collision'])\n",
    "g.map_upper(hide_current_axis)\n",
    "g.map_lower(hide_current_axis);"
   ]
  },
  {
   "cell_type": "markdown",
   "id": "36c6e9a5",
   "metadata": {
    "papermill": {
     "duration": 0.023709,
     "end_time": "2021-12-05T08:41:08.889916",
     "exception": false,
     "start_time": "2021-12-05T08:41:08.866207",
     "status": "completed"
    },
    "tags": []
   },
   "source": [
    "##  After these analysis it turns out that \n",
    "* the most number of deaths occurrs to the player between age 20 and 30\n",
    "* the top 3 player country in number of deaths is england, nigeria and brazil\n",
    "* the top 5 team country in number of deaths is england, romania, france, brazil and germany\n",
    "* the most number of deaths happens between the years 2000 and 2020\n",
    "* no relation between heart_related, cardiac_related, collapsed, lightning, collision and number of deaths"
   ]
  }
 ],
 "metadata": {
  "kernelspec": {
   "display_name": "Python 3",
   "language": "python",
   "name": "python3"
  },
  "language_info": {
   "codemirror_mode": {
    "name": "ipython",
    "version": 3
   },
   "file_extension": ".py",
   "mimetype": "text/x-python",
   "name": "python",
   "nbconvert_exporter": "python",
   "pygments_lexer": "ipython3",
   "version": "3.9.7"
  },
  "papermill": {
   "default_parameters": {},
   "duration": 17.112897,
   "end_time": "2021-12-05T08:41:09.625157",
   "environment_variables": {},
   "exception": null,
   "input_path": "__notebook__.ipynb",
   "output_path": "__notebook__.ipynb",
   "parameters": {},
   "start_time": "2021-12-05T08:40:52.512260",
   "version": "2.3.3"
  }
 },
 "nbformat": 4,
 "nbformat_minor": 5
}
